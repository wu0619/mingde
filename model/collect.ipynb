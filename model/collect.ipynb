{
 "cells": [
  {
   "cell_type": "code",
   "execution_count": 1,
   "metadata": {},
   "outputs": [],
   "source": [
    "import numpy as np\n",
    "import pandas as pd\n",
    "import cv2\n",
    "import mediapipe as mp\n",
    "import os"
   ]
  },
  {
   "cell_type": "code",
   "execution_count": 2,
   "metadata": {},
   "outputs": [],
   "source": [
    "mp_drawing = mp.solutions.drawing_utils\n",
    "mp_drawing_styles = mp.solutions.drawing_styles\n",
    "mp_pose = mp.solutions.pose"
   ]
  },
  {
   "cell_type": "code",
   "execution_count": 3,
   "metadata": {},
   "outputs": [],
   "source": [
    "video_path = \"./videos/\"\n",
    "data_path = \"./data/\"\n",
    "if not os.path.exists(video_path):\n",
    "    os.makedirs(video_path)\n",
    "if not os.path.exists(data_path):\n",
    "    os.makedirs(data_path)\n"
   ]
  },
  {
   "cell_type": "code",
   "execution_count": 4,
   "metadata": {},
   "outputs": [
    {
     "name": "stderr",
     "output_type": "stream",
     "text": [
      "WARNING: All log messages before absl::InitializeLog() is called are written to STDERR\n",
      "I0000 00:00:1714198651.545148       1 gl_context.cc:344] GL version: 2.1 (2.1 Metal - 88), renderer: Apple M1 Pro\n",
      "INFO: Created TensorFlow Lite XNNPACK delegate for CPU.\n"
     ]
    },
    {
     "name": "stdout",
     "output_type": "stream",
     "text": [
      "(2304, 99)\n",
      "(1888, 99)\n",
      "(1861, 99)\n",
      "(1864, 99)\n",
      "(1846, 99)\n",
      "(2123, 99)\n",
      "(2160, 99)\n"
     ]
    }
   ],
   "source": [
    "with mp_pose.Pose(\n",
    "        min_detection_confidence=0.5,\n",
    "        min_tracking_confidence=0.5\n",
    "    ) as pose:\n",
    "    for i in range(7):\n",
    "        cap = cv2.VideoCapture(video_path + f\"pose_0{i}.MOV\")\n",
    "        landmarks_list = []\n",
    "        if not cap.isOpened():\n",
    "            print(\"Error: Could not open video.\")\n",
    "            exit()\n",
    "        while True:\n",
    "            ret, frame = cap.read()\n",
    "            if not ret:\n",
    "                break\n",
    "\n",
    "            imframeg = cv2.cvtColor(frame, cv2.COLOR_BGR2RGB)\n",
    "            results = pose.process(frame)\n",
    "            if results.pose_landmarks:\n",
    "                landmarks = np.array([[lm.x, lm.y, lm.z] for lm in results.pose_landmarks.landmark]).flatten()\n",
    "                landmarks_list.append(landmarks)\n",
    "\n",
    "        landmarks_list = np.array(landmarks_list)\n",
    "        print(landmarks_list.shape)\n",
    "        label = np.full((landmarks_list.shape[0], 1), i) # <---class的名稱，更改最後這個參數，並用阿拉伯數字命名\n",
    "        data = np.hstack((landmarks_list, label))\n",
    "        columns = [f'feature_{i}' for i in range(99)] + ['Label']\n",
    "        df = pd.DataFrame(data, columns=columns)\n",
    "        df.to_csv(data_path + f\"pose_0{i}.csv\")\n",
    "        cap.release()\n",
    "        cv2.destroyAllWindows()"
   ]
  }
 ],
 "metadata": {
  "kernelspec": {
   "display_name": "tf",
   "language": "python",
   "name": "python3"
  },
  "language_info": {
   "codemirror_mode": {
    "name": "ipython",
    "version": 3
   },
   "file_extension": ".py",
   "mimetype": "text/x-python",
   "name": "python",
   "nbconvert_exporter": "python",
   "pygments_lexer": "ipython3",
   "version": "3.1.undefined"
  }
 },
 "nbformat": 4,
 "nbformat_minor": 2
}
